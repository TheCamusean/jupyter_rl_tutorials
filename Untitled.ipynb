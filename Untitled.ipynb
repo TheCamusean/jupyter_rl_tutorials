{
 "cells": [
  {
   "cell_type": "code",
   "execution_count": 1,
   "metadata": {},
   "outputs": [
    {
     "name": "stderr",
     "output_type": "stream",
     "text": [
      "/home/jurain/anaconda3/envs/rl36/lib/python3.6/site-packages/tensorflow/python/util/tf_inspect.py:75: DeprecationWarning: inspect.getargspec() is deprecated, use inspect.signature() or inspect.getfullargspec()\n",
      "  return _inspect.getargspec(target)\n"
     ]
    }
   ],
   "source": [
    "import tensorflow as tf\n",
    "import trfl\n",
    "\n",
    "# Q-values for the previous and next timesteps, shape [batch_size, num_actions].\n",
    "q_tm1 = tf.get_variable(\n",
    "    \"q_tm1\", initializer=[[1., 1., 0.], [1., 2., 0.]], dtype=tf.float32)\n",
    "q_t = tf.get_variable(\n",
    "    \"q_t\", initializer=[[0., 1., 0.], [1., 2., 0.]], dtype=tf.float32)\n",
    "\n",
    "# Action indices, discounts and rewards, shape [batch_size].\n",
    "a_tm1 = tf.constant([0, 1], dtype=tf.int32)\n",
    "r_t = tf.constant([1, 1], dtype=tf.float32)\n",
    "pcont_t = tf.constant([0, 1], dtype=tf.float32)  # the discount factor\n",
    "\n",
    "# Q-learning loss, and auxiliary data.\n",
    "loss, q_learning = trfl.qlearning(q_tm1, a_tm1, r_t, pcont_t, q_t)"
   ]
  },
  {
   "cell_type": "code",
   "execution_count": 9,
   "metadata": {},
   "outputs": [],
   "source": [
    "reduced_loss = tf.reduce_mean(loss)\n",
    "optimizer = tf.train.AdamOptimizer(learning_rate=0.1)\n",
    "train_op = optimizer.minimize(reduced_loss)\n"
   ]
  },
  {
   "cell_type": "code",
   "execution_count": 16,
   "metadata": {},
   "outputs": [
    {
     "name": "stdout",
     "output_type": "stream",
     "text": [
      "Tensor(\"QLearning/sub:0\", shape=(2,), dtype=float32)\n"
     ]
    }
   ],
   "source": [
    "print(q_learning.td_error)\n"
   ]
  }
 ],
 "metadata": {
  "kernelspec": {
   "display_name": "Python 3",
   "language": "python",
   "name": "python3"
  },
  "language_info": {
   "codemirror_mode": {
    "name": "ipython",
    "version": 3
   },
   "file_extension": ".py",
   "mimetype": "text/x-python",
   "name": "python",
   "nbconvert_exporter": "python",
   "pygments_lexer": "ipython3",
   "version": "3.6.7"
  }
 },
 "nbformat": 4,
 "nbformat_minor": 2
}
